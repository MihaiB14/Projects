{
 "cells": [
  {
   "cell_type": "markdown",
   "metadata": {},
   "source": [
    "Metoda Puterii Inverse\n",
    "==================\n",
    "$\\qquad$ Metoda puterii inverse pentru matricea A este, în fapt, metoda puterii\n",
    "pentru matricea  $(\\mu I - A)^{-1}$ unde $\\mu$ este un scalar adecvat ales la fiecare pas,\n",
    "numit deplasare. Prin urmare, metoda puterii inverse construiește un șir de\n",
    "vectori cu relația de recurentă $$y^{(k)} = \\rho_{k}(\\lambda I - A)^{-1}y^{(k-1)}, \\qquad k = 1,2,...,$$ Desigur, mijlocul eficient de implementare a iterației evită calculul matricei $(\\lambda I - A)^{-1}$ si apelează la rezolvarea unui sistem liniar, conform următoarei scheme.\n",
    "1. Se rezolvă in raport cu  $y^{(k)}$  sistemul liniar $(\\lambda I - A)y^{(k)} = y^{(k-1)}$.\n",
    "2. $y^{(k)} \\gets y^{(k)}/||y^{(k)}||$.\n",
    "\n",
    "<br>\n",
    "$\\qquad$ Metoda puterii inverse este una dintre cele mai bune metode iterative de calcul al unui vector propriu a unei matrice.\n",
    "Cea mai bună alegere a deplasării este dată de câtul Rayleigh $$\\lambda = \\frac{(y^{(k-1)})^T Ay^{(k-1)}}{||y^{(k-1)}||^2} = (y^{(k-1)})^T Ay^{(k-1)}$$\n",
    "Utilizând același criteriu de oprire ca și la metoda puterii obținem următorul algoritm.\n",
    "\n",
    "$\\qquad$*ALGORITM(Metoda Puterii Inverse cu deplasare Rayleigh)*(Dată o matrice $A \\in \\mathbb{R}^{nxn}$ , un nivel de toleranță $tol \\in \\mathbb{R}, tol < 1$ , si un număr maxim admis maxiter de iterații, algoritmul calculează un vector propriu unitar $y$ al matriceii date sau tipărește un mesaj dacă obiectivul nu a fost atins în numărul de iteraăii admis.)\n",
    "\n",
    "1. Se alege aleator un vector\n",
    "2. $y \\gets x/||x||$\n",
    "3. **pentru** $k = 1:maxiter$ \n",
    "    * $\\mu = y^T Ay $\n",
    "    * Se rezolvă sistemul liniar $(A - \\mu I_n)x = y$\n",
    "    * $x \\gets x/||x||$\n",
    "    * **dacă** $1 - |x^Ty| < tol$ **atunci**\n",
    "        + stop\n",
    "    * $y \\gets x$\n",
    "4. **Tipărește** 'S-a atins numărul maxim de iterații!'"
   ]
  },
  {
   "cell_type": "code",
   "execution_count": 23,
   "metadata": {
    "scrolled": true
   },
   "outputs": [
    {
     "name": "stdout",
     "output_type": "stream",
     "text": [
      "Vectorul propriu calculat este\n",
      "[[-0.33494057]\n",
      " [-0.54738164]\n",
      " [-0.70386787]\n",
      " [-0.30456227]]\n",
      "Norma erorii este: 2.482534153247273e-16\n"
     ]
    }
   ],
   "source": [
    "import numpy as np\n",
    "from scipy.linalg import norm\n",
    "\n",
    "#Functia MPI\n",
    "def MPI(A,tol,maxiter,x):\n",
    "    n = len(A)\n",
    "    y = x/norm(x)\n",
    "    for k in range(maxiter):\n",
    "        m = np.dot(np.dot(np.transpose(y),A),y)\n",
    "        x = np.linalg.solve(A - m*np.eye(n),y)\n",
    "        x = x/norm(x)\n",
    "        if 1 - abs(np.dot(np.transpose(x),y)) < tol:\n",
    "            mesaj = 0\n",
    "            return x, mesaj\n",
    "        y = x\n",
    "    y = float('inf')\n",
    "    mesaj = 1\n",
    "    return y, mesaj\n",
    "#--------------------------------------------------------------------------\n",
    "n = 4\n",
    "A = np.random.rand(n,n)\n",
    "y = np.random.rand(n,1)\n",
    "\n",
    "tol = 1e-10\n",
    "maxiter = 100\n",
    "\n",
    "#---------------------------------------------------------------------------\n",
    "w, mesaj = MPI(A,tol,maxiter,y)\n",
    "#verificare\n",
    "if not mesaj:\n",
    "    Lambda = np.dot(np.dot(np.transpose(w),A),w)/np.dot(np.transpose(w),w)\n",
    "    norma = norm(np.dot(A,w) - Lambda*w)\n",
    "    if norma < 1e-4:\n",
    "        print(\"Vectorul propriu calculat este\")\n",
    "        print(w)\n",
    "        print(\"Norma erorii este:\", norma)\n",
    "    else:\n",
    "        print(\"Norma diferenței are o valoare neacceptată\")\n",
    "else:\n",
    "    print(\"Valoarea proprie maximă în modul este complexă sau reală multiplă!\")\n",
    "\n",
    "#---------------------------------------------------------------------------"
   ]
  },
  {
   "cell_type": "code",
   "execution_count": null,
   "metadata": {},
   "outputs": [],
   "source": []
  }
 ],
 "metadata": {
  "kernelspec": {
   "display_name": "Python 3",
   "language": "python",
   "name": "python3"
  },
  "language_info": {
   "codemirror_mode": {
    "name": "ipython",
    "version": 3
   },
   "file_extension": ".py",
   "mimetype": "text/x-python",
   "name": "python",
   "nbconvert_exporter": "python",
   "pygments_lexer": "ipython3",
   "version": "3.9.1"
  }
 },
 "nbformat": 4,
 "nbformat_minor": 4
}
