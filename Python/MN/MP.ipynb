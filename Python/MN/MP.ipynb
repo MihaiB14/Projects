{
 "cells": [
  {
   "cell_type": "markdown",
   "metadata": {},
   "source": [
    "Metoda Puterii\n",
    "============\n",
    "$\\qquad$Presupunem că matricea $A \\in \\mathbb{R}^n$ are o valoare proprie dominantă mai\n",
    "mare in modul decât toate celelalte, si fie aceasta $\\lambda_1$. Metoda puterii se bazează pe faptul că șirul vectorial $$y^{(k)} = A^{k}y_{0}, \\qquad k = 1,2,...,$$ unde $y_0$ este un vector aleator ales, tinde, ca direcție, către direcția vectorului propriu asociat valorii proprii dominante. Introducând și normarea vectorilor din acest șir, aceasta poate fi definit recurent prin $$y^{(k)} = \\rho_{k}Ay^{(k-1)},\\qquad k = 1,2,...,$$ unde $\\rho_{k} = \\frac{1}{||Ay^{(k-1)}||}$ este un factor de scalare.\n",
    "\n",
    "$\\qquad$*ALGORITM(Metoda Puterii)*(Dată o matrice $A \\in \\mathbb{C}^{nxn}$, un nivel de toleranță $tol \\in \\mathbb{R}, tol < 1$, și un număr maxim admis \tmaxiter de iterații, algoritmul calculează un vector propriu unitar y asociat valorii proprii dominante a matricei date sau tipărește un mesaj dacă obiectivul nu a fost atins în numărul de iterații admis.)\n",
    "1. Se alege aleator un vector \n",
    "2. $y \\gets x/||x||$ \n",
    "3. **pentru** $k = 1:maxiter$ \n",
    "    * $x = Ay$ \n",
    "    * $x \\gets x/||x||$ \n",
    "    * **dacă** $1 - |x^Ty| < tol$ **atunci**\n",
    "        + **stop**\n",
    "    * $y \\gets x$ \n",
    "4. **Tipărește** 'S-a atins numărul maxim de iterații!'\n",
    "    \n",
    "$\\qquad$ Dacă matricea nu are o valoare proprie net dominantă, viteza de convergență poate fi nesatisfăcătoare, iar în cazul absenței unei valori proprii dominante șirul poate fi divergent.\n",
    "    \n"
   ]
  },
  {
   "cell_type": "code",
   "execution_count": 59,
   "metadata": {},
   "outputs": [
    {
     "name": "stdout",
     "output_type": "stream",
     "text": [
      "Vectorul propriu calculat este\n",
      "[[-0.14820665]\n",
      " [ 0.968566  ]\n",
      " [-0.06880068]\n",
      " [-0.18756643]]\n",
      "Norma erorii este: 9.02186426544865e-06\n"
     ]
    }
   ],
   "source": [
    "#Functia MP\n",
    "import numpy as np\n",
    "from scipy.linalg import norm\n",
    "\n",
    "def MP(A,tol,maxiter,x):\n",
    "    y = x/norm(x)\n",
    "    for k in range(maxiter):\n",
    "        x = np.dot(A,y)\n",
    "        x = x/norm(x)\n",
    "        if (1 - abs(np.dot(np.transpose(x),y))) < tol:\n",
    "            mesaj = 0\n",
    "            return x, mesaj\n",
    "        y = x\n",
    "    y = float('inf')\n",
    "    mesaj = 1\n",
    "    return y, mesaj\n",
    "#--------------------------------------------------------------------------------------\n",
    "n = 4\n",
    "A = np.random.randn(n,n)\n",
    "y = np.random.randn(n,1)\n",
    "\n",
    "tol = 1e-10\n",
    "maxiter = 100\n",
    "#---------------------------------------------------------------------------------------\n",
    "#apelare functie Metota Puterii \n",
    "z, mesaj = MP(A,tol,maxiter,y)\n",
    "#verificare\n",
    "if not mesaj:\n",
    "    Lambda = np.dot(np.dot(np.transpose(z),A),z)/np.dot(np.transpose(z),z)\n",
    "    norma = norm(np.dot(A,z) - Lambda*z)\n",
    "    if norma < 1e-4:\n",
    "        print(\"Vectorul propriu calculat este\")\n",
    "        print(z)\n",
    "        print(\"Norma erorii este:\", norma)\n",
    "    else:\n",
    "        print(\"Norma diferenței are o valoare neacceptată\")\n",
    "else:\n",
    "    print(\"Valoarea proprie maximă în modul este complexă sau reală multiplă!\")\n",
    "\n",
    "#---------------------------------------------------------------------------------------\n"
   ]
  },
  {
   "cell_type": "code",
   "execution_count": null,
   "metadata": {},
   "outputs": [],
   "source": []
  }
 ],
 "metadata": {
  "kernelspec": {
   "display_name": "Python 3",
   "language": "python",
   "name": "python3"
  },
  "language_info": {
   "codemirror_mode": {
    "name": "ipython",
    "version": 3
   },
   "file_extension": ".py",
   "mimetype": "text/x-python",
   "name": "python",
   "nbconvert_exporter": "python",
   "pygments_lexer": "ipython3",
   "version": "3.9.1"
  }
 },
 "nbformat": 4,
 "nbformat_minor": 4
}
