{
 "cells": [
  {
   "cell_type": "markdown",
   "metadata": {},
   "source": [
    "<p> Acesta este un cod html scris într-o zonă (denumită în continuare <strong>celulă</strong>) Jupyter Notebook. Poți verifica printr-un simplu dublu-click în această zonă, dar nu uita apoi să dai <i>Run</i> din butonul de mai sus pentru a reveni la reprezentarea Html. Apropo de denumirea în sine, „legenda spune\" că aceasta reprezintă un omagiu adus lui Galileo și caietelor acestuia în care și-a consemnat observațiile cu privire la lunile planetei Jupiter.</p> \n",
    "<br>\n",
    "<H1 style=\"text-align:center;\"> Scurt ghid pentru migrare de la Matlab la Python </H1>\n",
    "<p style=\"text-align:right;\"> Creat de MN, versiunea 0.2.2, ultima actualizare 07.03.2022 </p> "
   ]
  },
  {
   "cell_type": "markdown",
   "metadata": {},
   "source": [
    "<h3> Ipoteze despre studenți pe care acest material le are în vedere </h3>\n",
    "<p> Astfel, studenții vizați de acest material sunt:</p>\n",
    "<ul>\n",
    "    <li>Familiarizați cu abordarea sistemică (doar sunt la ingineria sistemelor) și modelarea sistemelor.</li>\n",
    "    <li>Capabili să vadă „mai departe” de un anume limbaj de programare. În acest sens, printre cursurile parcurse amintim „Programarea calculatoarelor” (nu „Limbajul C”), „Structuri de date și algoritmi” (nu „Tipuri de date si programare in limbajul C”), „Programare orientată pe obiecte” (nu „Introducere în C++ și/sau Java”) ș.a.m.d.. </li>\n",
    "    <li>Competenți în utilizarea mediului Matlab, mai ales din perspectiva ipotezelor anterioare.</li>\n",
    "</ul>\n"
   ]
  },
  {
   "cell_type": "markdown",
   "metadata": {},
   "source": [
    "<p> Acestea fiind „zise”, să trecem la treabă.</p>\n",
    "<br>\n",
    "<h3> Chestiuni de studiat </h3>\n",
    "<p> <strong> Notă: </strong> Ideea de laborator înseamnă posibilitatea de a experimenta, drept urmare, rugămintea este aceea de a modifica în cod de fiecare dată când simțiți nevoia și, astfel, să puteți vedea consecințele modificărilor. Ideal ar fi să citiți codul înainte de a-l rula, să estimați rezultatele, apoi să comparați rezultatele efective cu așteptările voastre. Încercați să înțelegeți iar unde nu reușiți întrebați (profesorul, colegii, forumurile etc.)! </p>\n",
    "<p> Mai întâi ne asigurăm că avem un mediu care poate rula cod Python. Celula de mai jos nu va mai fi de tipul <i>Markdown</i> ci va fi <i>Code</i> iar execuția ei implică apelarea „nucleul” Python ce rulează pe mașina unde este găzduit server-ul (cel mai probabil mașina locală dacă nu folosim Colab sau un server distant). </p>"
   ]
  },
  {
   "cell_type": "code",
   "execution_count": 1,
   "metadata": {},
   "outputs": [
    {
     "name": "stdout",
     "output_type": "stream",
     "text": [
      "Super!!!\n"
     ]
    }
   ],
   "source": [
    "# In Python comentariile incep cu caracterul #\n",
    "# Rulați aceasta celulă. Nu este indicat să dați Run All din mai multe motive.\n",
    "# Un motiv este acela ca ideea conținutului unui laborator este de a se parcurge secvențial.\n",
    "# Alt motiv o să fie mai clar după câteva celule. \n",
    "\n",
    "print(\"Super!!!\")"
   ]
  },
  {
   "cell_type": "markdown",
   "metadata": {},
   "source": [
    "\n",
    "<p> După cum probabil știați, Python este un limbaj de programare de nivel înalt (care se apropie de limbajul natural), de uz cât mai general, și care implică mai multe paradigme de programare (e.g. structurat/procedural, orientat pe obiecte, funcțional). Principiile care „ar trebui” să guverneze programele scrise în limbajul Python pot fi enumerate rulând linia de mai jos. <strong> Atenție!!! </strong> Pe principiul bancului cu profesorul de la școala de kamikaze care le spune cursanților atunci când făceau laborator de „auto-detonări”: „Priviți cu atenție că nu vă pot arata decât o singură dată!”, asemeni și în acest caz, prima rulare vă va afișa filosofia Python, rulările succesive nu o vor mai afișa. Dacă din greșeală ați rulat de mai multe ori respectiva celulă puteți alege să resetați nucleul Python (<i>Kernel -> Restart</i>).</p>"
   ]
  },
  {
   "cell_type": "code",
   "execution_count": 2,
   "metadata": {},
   "outputs": [
    {
     "name": "stdout",
     "output_type": "stream",
     "text": [
      "The Zen of Python, by Tim Peters\n",
      "\n",
      "Beautiful is better than ugly.\n",
      "Explicit is better than implicit.\n",
      "Simple is better than complex.\n",
      "Complex is better than complicated.\n",
      "Flat is better than nested.\n",
      "Sparse is better than dense.\n",
      "Readability counts.\n",
      "Special cases aren't special enough to break the rules.\n",
      "Although practicality beats purity.\n",
      "Errors should never pass silently.\n",
      "Unless explicitly silenced.\n",
      "In the face of ambiguity, refuse the temptation to guess.\n",
      "There should be one-- and preferably only one --obvious way to do it.\n",
      "Although that way may not be obvious at first unless you're Dutch.\n",
      "Now is better than never.\n",
      "Although never is often better than *right* now.\n",
      "If the implementation is hard to explain, it's a bad idea.\n",
      "If the implementation is easy to explain, it may be a good idea.\n",
      "Namespaces are one honking great idea -- let's do more of those!\n"
     ]
    }
   ],
   "source": [
    "import this"
   ]
  },
  {
   "cell_type": "markdown",
   "metadata": {},
   "source": [
    "\n",
    "<p> O consecință a principilor de mai sus este și aceea că nu mai există declarații redundante care marchează începutul și sfârșitul unui modul (bloc) de cod atât timp cât un programator va alinia codul pentru a putea fi ușor de parcurs. Astfel, limbajul Python este „sensibil” la alinierea codului.</p>"
   ]
  },
  {
   "cell_type": "code",
   "execution_count": 3,
   "metadata": {},
   "outputs": [
    {
     "name": "stdout",
     "output_type": "stream",
     "text": [
      "Start!\n",
      "In for cu valoarea contorului 0.00!\n",
      "Tot in bucla for...\n",
      "In for cu valoarea contorului 1.00!\n",
      "Tot in bucla for...\n",
      "In for cu valoarea contorului 2.00!\n",
      "Tot in bucla for...\n",
      "In for cu valoarea contorului 3.00!\n",
      "Tot in bucla for...\n",
      "In for cu valoarea contorului 4.00!\n",
      "Tot in bucla for...\n",
      "Stop!\n"
     ]
    }
   ],
   "source": [
    "print(\"Start!\")\n",
    "for i in range(0,5):\n",
    "    print(f\"In for cu valoarea contorului {i:.2f}!\")\n",
    "    print(\"Tot in bucla for...\")\n",
    "print(\"Stop!\")"
   ]
  },
  {
   "cell_type": "markdown",
   "metadata": {},
   "source": [
    "<p> <strong> Și care este legătura cu Matlab-ul?! </strong> </p>"
   ]
  },
  {
   "cell_type": "code",
   "execution_count": 4,
   "metadata": {},
   "outputs": [],
   "source": [
    "# Fără să declarăm anterior tipul unei variabile îi atribuim o listă de elemente. \n",
    "lista = [1, 2, 3] \n"
   ]
  },
  {
   "cell_type": "markdown",
   "metadata": {},
   "source": [
    "\n",
    "<p> Haideți să o și afișăm în stilul Matlab (totuși, abordarea aceasta cu afișarea variabilelor nu merge decât izolat, de aceea va fi nevoie să afișam explicit folosind funcții de afișare).</p>"
   ]
  },
  {
   "cell_type": "code",
   "execution_count": 5,
   "metadata": {},
   "outputs": [
    {
     "data": {
      "text/plain": [
       "[1, 2, 3]"
      ]
     },
     "execution_count": 5,
     "metadata": {},
     "output_type": "execute_result"
    }
   ],
   "source": [
    "lista"
   ]
  },
  {
   "cell_type": "code",
   "execution_count": 6,
   "metadata": {},
   "outputs": [
    {
     "name": "stdout",
     "output_type": "stream",
     "text": [
      "[1, 2, 3, 1, 2, 3, 1, 2, 3]\n"
     ]
    }
   ],
   "source": [
    "# incercam o operatie de produs dintre un vector (lista in cazul nostru) si un scalar\n",
    "l2 = lista*3\n",
    "print(l2)"
   ]
  },
  {
   "cell_type": "markdown",
   "metadata": {},
   "source": [
    "<p> Parcă nu e ce ne-am fi așteptat de la Matlab. Ca rezultatul să fie apropiat de așteptările provenite din experiența cu Matlab va fi necesar să folosim niște pachete dedicate (în Python se preferă termenul de „modul” în locul „bibliotecii”). Un pachet larg folosit de comunitatea științifică este „numpy\" (Numerical arrays in Python). </p>"
   ]
  },
  {
   "cell_type": "code",
   "execution_count": 7,
   "metadata": {},
   "outputs": [],
   "source": [
    "# Pentru a putea lucra cu pachetul numpy va trebui mai intai sa-l \"importam\". \n",
    "# Principiul de a lucra cu pachete si module in Python este similar cu\n",
    "# alte limbaje orientate spre obiect unde exista notiunea de \"namespace\".\n",
    "#  Astfel, putem schimba domeniul de aplicare al unui nume cu propriul nostru domeniu\n",
    "\n",
    "import numpy as np  # np este un nume dat de noi, dar oarecum recomandat in conventiile numpy"
   ]
  },
  {
   "cell_type": "code",
   "execution_count": 8,
   "metadata": {},
   "outputs": [
    {
     "name": "stdout",
     "output_type": "stream",
     "text": [
      "[1 2 3]\n",
      "[3 6 9]\n"
     ]
    }
   ],
   "source": [
    "v1 = np.array(lista)\n",
    "print(v1)\n",
    "v2 = v1*3\n",
    "print(v2)"
   ]
  },
  {
   "cell_type": "markdown",
   "metadata": {},
   "source": [
    "<p> Operații de distribuire (broadcast). </p>"
   ]
  },
  {
   "cell_type": "code",
   "execution_count": 9,
   "metadata": {},
   "outputs": [
    {
     "name": "stdout",
     "output_type": "stream",
     "text": [
      "[1.         0.5        0.33333333]\n"
     ]
    }
   ],
   "source": [
    "v3 = 1/v1 # practic, scalarul 1 se distribuie pe dimensiunea lui v1\n",
    "print(v3)"
   ]
  },
  {
   "cell_type": "markdown",
   "metadata": {},
   "source": [
    "<p> Sa incercam si cu matrice. </p>"
   ]
  },
  {
   "cell_type": "code",
   "execution_count": 10,
   "metadata": {},
   "outputs": [
    {
     "name": "stdout",
     "output_type": "stream",
     "text": [
      "[[1 2 3]\n",
      " [4 5 6]]\n",
      "[1 4]\n",
      "[4 5 6]\n"
     ]
    }
   ],
   "source": [
    "a=np.array([[1, 2, 3], [4, 5, 6]]) # O lista de liste care este parametru pentru functia array\n",
    "print(a)  # se afiseaza matricea\n",
    "print(a[:,0]) # prima coloana... pare cunoscut\n",
    "print(a[1,:]) # a doua linie"
   ]
  },
  {
   "cell_type": "markdown",
   "metadata": {},
   "source": [
    "<p> Sa continuam cu alte exemple din Matlab cu care suntem obisnuiti. </p>"
   ]
  },
  {
   "cell_type": "code",
   "execution_count": 11,
   "metadata": {},
   "outputs": [
    {
     "name": "stdout",
     "output_type": "stream",
     "text": [
      "[[1. 1. 1.]\n",
      " [1. 1. 1.]\n",
      " [1. 1. 1.]]\n"
     ]
    }
   ],
   "source": [
    "B = np.ones((3,3))\n",
    "print(B)"
   ]
  },
  {
   "cell_type": "code",
   "execution_count": 12,
   "metadata": {},
   "outputs": [
    {
     "name": "stdout",
     "output_type": "stream",
     "text": [
      "[[2. 1. 1.]\n",
      " [1. 1. 1.]\n",
      " [1. 1. 1.]]\n"
     ]
    }
   ],
   "source": [
    "C = B\n",
    "C[0, 0] = 2\n",
    "print(B) # Atentie la transmiterea datelor prin referinta "
   ]
  },
  {
   "cell_type": "code",
   "execution_count": 13,
   "metadata": {},
   "outputs": [
    {
     "name": "stdout",
     "output_type": "stream",
     "text": [
      "[[2. 1. 1. 2.]\n",
      " [1. 1. 1. 1.]\n",
      " [1. 1. 1. 1.]]\n"
     ]
    }
   ],
   "source": [
    "y=B[:,[0, 1, 2, 0]] # y va avea 4 coloane, prima va fi copiata pe pozitia a 4-a\n",
    "print(y)"
   ]
  },
  {
   "cell_type": "code",
   "execution_count": 14,
   "metadata": {},
   "outputs": [
    {
     "name": "stdout",
     "output_type": "stream",
     "text": [
      "a =  [0 1 2]\n",
      "b =  [1. 1. 1.]\n",
      "Produsul element cu element:  [0. 1. 2.]\n",
      "Produsul scalar 3.0\n"
     ]
    }
   ],
   "source": [
    "a = np.arange(0,3) # [0, 1, 2]\n",
    "b = np.ones(3) # [1, 1, 1]\n",
    "print(\"a = \", a)\n",
    "print(\"b = \", b)\n",
    "print(\"Produsul element cu element: \", a*b)\n",
    "print(f\"Produsul scalar {np.dot(a,b)}\")"
   ]
  },
  {
   "cell_type": "markdown",
   "metadata": {},
   "source": [
    "<p> Să mai încercăm cu matrice. </p>"
   ]
  },
  {
   "cell_type": "code",
   "execution_count": 15,
   "metadata": {},
   "outputs": [
    {
     "name": "stdout",
     "output_type": "stream",
     "text": [
      "A =  [[1 2 3]\n",
      " [4 5 6]\n",
      " [7 8 9]]\n",
      "A = \n",
      " [[1 2 3]\n",
      " [4 5 6]\n",
      " [7 8 9]]\n",
      "B = \n",
      " [[1. 1. 1.]\n",
      " [1. 1. 1.]\n",
      " [1. 1. 1.]]\n"
     ]
    }
   ],
   "source": [
    "A = np.array([[1, 2, 3], [4, 5, 6], [7, 8, 9]])\n",
    "B = np.ones((3,3))\n",
    "print(\"A = \", A)\n",
    "print(f\"A = \\n {A}\") # in cazul in care nu v-ati \"prins\" cum este cu afisarea cu formatare si la ce ajuta\n",
    "print(f\"B = \\n {B}\")"
   ]
  },
  {
   "cell_type": "code",
   "execution_count": 16,
   "metadata": {},
   "outputs": [
    {
     "name": "stdout",
     "output_type": "stream",
     "text": [
      "A*b = \n",
      " [ 6. 15. 24.]\n",
      "A*B = \n",
      " [[ 6.  6.  6.]\n",
      " [15. 15. 15.]\n",
      " [24. 24. 24.]]\n",
      "D = \n",
      " [[1 0 0]\n",
      " [0 1 0]\n",
      " [0 0 1]]\n",
      "A*D = \n",
      " [[1 2 3]\n",
      " [4 5 6]\n",
      " [7 8 9]]\n"
     ]
    }
   ],
   "source": [
    "c = A @ b # multiplicare matematica de matrice (vezi https://numpy.org/doc/stable/reference/routines.linalg.html ) \n",
    "print(f\"A*b = \\n {c}\")\n",
    "C = A @ B\n",
    "print(f\"A*B = \\n {C}\")\n",
    "D = np.diag([1, 1, 1]) # matrice unitate I3\n",
    "print(f\"D = \\n {D}\")\n",
    "print(f\"A*D = \\n {A @ D}\")"
   ]
  },
  {
   "cell_type": "code",
   "execution_count": 17,
   "metadata": {},
   "outputs": [
    {
     "name": "stdout",
     "output_type": "stream",
     "text": [
      "A^t = \n",
      " [[1 4 7]\n",
      " [2 5 8]\n",
      " [3 6 9]]\n"
     ]
    }
   ],
   "source": [
    "# sa facem si o transpunere de matrice\n",
    "print(f\"A^t = \\n {A.T}\") # echivalent cu np.transpose(A)"
   ]
  },
  {
   "cell_type": "code",
   "execution_count": 18,
   "metadata": {},
   "outputs": [
    {
     "name": "stdout",
     "output_type": "stream",
     "text": [
      "ct = \n",
      " [[ 6.]\n",
      " [15.]\n",
      " [24.]]\n"
     ]
    }
   ],
   "source": [
    "# in cazul unui vector va trebui sa-i schimbam forma\n",
    "ct = c.reshape((len(c), 1))\n",
    "print(f\"ct = \\n {ct}\")"
   ]
  },
  {
   "cell_type": "markdown",
   "metadata": {
    "collapsed": true
   },
   "source": [
    "<br>\n",
    "<p> În continuare ne vom dedica <strong> reprezentărilor grafice </strong>. Pentru aceasta vom folosi pachetul <i>matplotlib</i>.</p>\n",
    "<br>"
   ]
  },
  {
   "cell_type": "code",
   "execution_count": 19,
   "metadata": {},
   "outputs": [],
   "source": [
    "import matplotlib.pyplot as plt # din nou recomandarea este ca namespace-ul sa fie plt"
   ]
  },
  {
   "cell_type": "markdown",
   "metadata": {
    "collapsed": true
   },
   "source": [
    "\n",
    "<p> Să presupunem că dorim să reprezentam grafic funcția <i>sinus</i>. Cunoaștem că este periodică și am vrea să-i vedem reprezentate câteva perioade așa cum am desena-o pe hârtie. Doar că pe hârtie o trasăm „continuu” fără să ridicăm pixul de pe foaie, iar pe ecran va trebui să alegem un număr de puncte. Este o întreagă discuție despre cum putem face astfel de reprezentări pe ecran care să ne permită „zoom in” infinit, discuții care nu fac obiectul acestei discipline. În cazul nostru, va trebui să fim conștienți că, la fel ca în Matlab, reprezentarea grafică cu funcția plot (fără parametrizare explicită) va aplica o interpolare de ordinul întâi (i.e. unește prin linii punctele dintre cei doi vectori pe care îi primește ca parametru). Dar, cel mai bine este să ne convingem...</p>\n"
   ]
  },
  {
   "cell_type": "code",
   "execution_count": 22,
   "metadata": {
    "scrolled": true
   },
   "outputs": [
    {
     "name": "stdout",
     "output_type": "stream",
     "text": [
      "x este de tipul <class 'numpy.ndarray'> si are dimensiunea 4000\n",
      "y este de tipul <class 'numpy.ndarray'> si are dimensiunea 4000\n"
     ]
    }
   ],
   "source": [
    "T = 0.5 # pp ca perioada sinusului este 1 (nu punem inca unitati de masura ca suntem la \"matematica\" :-D)\n",
    "        # adaugam si o zecimala ca sa nu avem surprize cu impartiri intregi de tipul 3/2=1\n",
    "# rezulta frecventa\n",
    "f = 1/T \n",
    "\n",
    "# se definim abscisa sub forma unui vector x \n",
    "# cum frecventa este 1, conform lui Nyquist-Shannon, ar fi suficient sa esantionam cu dublul frecventei,\n",
    "# deci cu fe = 2, echivalentul unei perioade de esantionare Te = 0.5\n",
    "Te = 0.001\n",
    "x=np.arange(-2, 2, Te) # start, stop si pasul\n",
    "print(f\"x este de tipul {type(x)} si are dimensiunea {x.size}\")\n",
    "\n",
    "# sa determinam si ordonata\n",
    "y=np.sin(2*np.pi*f*x) # functia sin din modulul numpy poate primi un parametru de tip np.array \n",
    "print(f\"y este de tipul {type(y)} si are dimensiunea {y.size}\")\n",
    "\n",
    "z = np.zeros(len(x))\n",
    "for i in range (0,len(x)):\n",
    "    z[i] = np.sign(y[i]) "
   ]
  },
  {
   "cell_type": "code",
   "execution_count": 23,
   "metadata": {},
   "outputs": [
    {
     "data": {
      "image/png": "[encoded data removed]",
      "text/plain": [
       "<Figure size 432x288 with 1 Axes>"
      ]
     },
     "metadata": {
      "needs_background": "light"
     },
     "output_type": "display_data"
    }
   ],
   "source": [
    "# sa si desenam in sfarsit\n",
    "#plt.plot(x,y)\n",
    "plt.plot(x,z)\n",
    "plt.show()"
   ]
  },
  {
   "cell_type": "markdown",
   "metadata": {
    "collapsed": true
   },
   "source": [
    "\n",
    "<p> Observați asemănarea cu funcția sinus așa cum o cunoașteți!? Dacă nu sunteți siguri puteți verifica și limitele valorilor de pe ordonată (Cât este max{sin(x)} cu x oricare număr real?). Ce se întâmplă? </p>\n",
    "<br>\n",
    "<ul>\n",
    "    <li>Micșorați de 10 ori perioada de eșantionare și refaceți experimentul de mai sus. Ce observați?</li>\n",
    "    <li>Faceți Te = 0.001 și refaceți experimentul anterior.</li>\n",
    "    <li>În concluzie, cum alegem perioada de eșantionare pentru reprezentarea grafică? (pentru experimentarea cu moduri de eșantionare și extrapolare, inclusiv funcția sinc normalizată – sinus hiperbolic sau funcția de eșantionare, puteți solicita profesorului să vă pună la dispoziție un laborator destinat disciplinei PSA anul 4 direcția A2)</li>\n",
    "    </ul>\n"
   ]
  },
  {
   "cell_type": "markdown",
   "metadata": {
    "collapsed": true
   },
   "source": [
    "\n",
    "<p> Observați că atunci când perioada de eșantionare era 0.001, vectorii de mai sus aveau câte 4000 de elemente fiecare, ceea ce s-ar justifica la o reprezentare grafică doar în contextul în care am avea un display cu rezoluție 4K... sau poate dacă am putea face „zoom in”... chiar așa?! La „plot-ul” din Matlab puteam face aceasta operație de scalare a axelor. Și aici am putea-o face din cod modificând reprezentarea și folosind obiectele de tip axe ale modulului plot, dar am putea recurge și la un artificiu, o funcție magică așa cum sunt ele denumite în Python.</p>\n",
    "<br>\n"
   ]
  },
  {
   "cell_type": "code",
   "execution_count": 36,
   "metadata": {},
   "outputs": [],
   "source": [
    "%matplotlib notebook\n",
    "# Este bine ca dupa rularea unei astfel de functii sa lasati un timp scurt (~1s) pana rulati o\n",
    "# comanda care afiseaza un grafic pentru ca... executie concurent, web, javscript... dar, odata rulata intr-o\n",
    "# celula separata ca in cazul de fata, aceasta functionalitate ramane activa si nu trebuie\n",
    "# sa ne mai facem griji. Acesta este celalat motiv pentru care e bine sa rulam pe rand \n",
    "# celulele si sa nu dam comanda Run All (caz in care celeule se pot executa in paralel daca nu au cod blocant iar\n",
    "# un grafic poate fi reprezentat inainte ca fuctia aceasta sa se fi executat)"
   ]
  },
  {
   "cell_type": "markdown",
   "metadata": {
    "collapsed": true
   },
   "source": [
    "<br>\n",
    "<ul>\n",
    "    <li>Acum rulați din nou celula care trasează graficul. Reușiți să faceți „zoom in”?</li>\n",
    "    <li><strong> Provocare: </strong> Reprezentați un semnal dreptunghiular și arătați profesorului rezultatul. </li>\n",
    "    </ul>\n",
    "<br>\n",
    "<p><strong> Atenție! NU </strong>  ne dorim să transformăm laboratorul de transmisii de date într-un curs sau laborator de programare. Trebuie doar să ne asigurăm că avem abilitatea de a folosi niște instrumente cu scopul de a putea experimenta (la nivelul pregătirii noastre) cu noțiunile pe care „Transmisiile de date” le presupun.   \n",
    "   </p>"
   ]
  },
  {
   "cell_type": "code",
   "execution_count": null,
   "metadata": {},
   "outputs": [],
   "source": []
  },
  {
   "cell_type": "markdown",
   "metadata": {
    "collapsed": true
   },
   "source": [
    "\n",
    "<p> Dar, pentru moment să revenim la reprezentările funcției sinus (Ce ne tot „freacă” cu sinusul astă? Parcă am face o specializare la ORL &#x1F61C). </p>\n",
    "<br>\n"
   ]
  },
  {
   "cell_type": "code",
   "execution_count": 30,
   "metadata": {},
   "outputs": [
    {
     "name": "stdout",
     "output_type": "stream",
     "text": [
      "t are dimensiunea 1000 si contine valori in intervalul [0.0, 1.0]\n"
     ]
    }
   ],
   "source": [
    "# fie un semnal cu suportul [0,1)\n",
    "\n",
    "# sa ne definim axa timp ca pentru un display cu o rezolutie orizonatla de 1000 de pixeli (nici sa nu exageram cu calculele)\n",
    "W = 1000\n",
    "t = np.linspace(0, 1, W) # W puncte egal spatiate intre 0 si T (dupa caz t poate contine sau nu 1, adica limita superioara)\n",
    "print(f\"t are dimensiunea {t.size} si contine valori in intervalul [{t[0]}, {t[-1]}]\")"
   ]
  },
  {
   "cell_type": "code",
   "execution_count": 31,
   "metadata": {},
   "outputs": [
    {
     "data": {
      "image/png": "[encoded data removed]",
      "text/plain": [
       "<Figure size 432x288 with 3 Axes>"
      ]
     },
     "metadata": {
      "needs_background": "light"
     },
     "output_type": "display_data"
    }
   ],
   "source": [
    "sin1 = np.sin(2*np.pi*1*t)\n",
    "sin2 = np.sin(2*np.pi*2*t)\n",
    "sin3 = np.sin(2*np.pi*3*t)\n",
    "# cam barbar dar ati prins ideea :D\n",
    "plt.figure()\n",
    "plt.subplot(3,1,1)\n",
    "plt.plot(t,sin1)\n",
    "#copy-paste de 2 ori si modificat... ASA NUUU... E O BARBARIE!!!\n",
    "plt.subplot(3,1,2)\n",
    "plt.plot(t,sin2)\n",
    "plt.subplot(3,1,3)\n",
    "plt.plot(t,sin3)\n",
    "plt.show()"
   ]
  },
  {
   "cell_type": "markdown",
   "metadata": {
    "collapsed": true
   },
   "source": [
    "<br>\n",
    "<p> Haideți să fim și serioși!!! </p>\n",
    "<br>\n"
   ]
  },
  {
   "cell_type": "code",
   "execution_count": 44,
   "metadata": {},
   "outputs": [
    {
     "name": "stdout",
     "output_type": "stream",
     "text": [
      "an are dimensiunea 101, egala cu numarul de armonici (i.e. 100) la care se adauga armonica de frecventa 0 (componenta continua)\n"
     ]
    }
   ],
   "source": [
    "Na = 100  # Numarul de armonici\n",
    "\n",
    "n = np.arange(Na+1) # n = [0, 1, 2, ..., Na]\n",
    "\n",
    "# ne propunem sa scalam si cu niste coeficienti (an) sinusurile \"de mai sus\"\n",
    "an = np.zeros(Na+1) # initializam\n",
    "an[1:] = 1/(np.pi*n[1:]) * (1 - np.cos(np.pi*n[1:])) # evitam impartirea la 0\n",
    "\n",
    "print(f\"an are dimensiunea {an.size}, egala cu numarul de armonici (i.e. {Na}) la care se adauga armonica de frecventa 0 (componenta continua)\")"
   ]
  },
  {
   "cell_type": "code",
   "execution_count": 45,
   "metadata": {},
   "outputs": [],
   "source": [
    "from mpl_toolkits.mplot3d import Axes3D"
   ]
  },
  {
   "cell_type": "code",
   "execution_count": 49,
   "metadata": {},
   "outputs": [
    {
     "data": {
      "application/javascript": [
       "/* Put everything inside the global mpl namespace */\n",
       "/* global mpl */\n",
       "window.mpl = {};\n",
       "\n",
       "mpl.get_websocket_type = function () {\n",
       "    if (typeof WebSocket !== 'undefined') {\n",
       "        return WebSocket;\n",
       "    } else if (typeof MozWebSocket !== 'undefined') {\n",
       "        return MozWebSocket;\n",
       "    } else {\n",
       "        alert(\n",
       "            'Your browser does not have WebSocket support. ' +\n",
       "                'Please try Chrome, Safari or Firefox ≥ 6. ' +\n",
       "                'Firefox 4 and 5 are also supported but you ' +\n",
       "                'have to enable WebSockets in about:config.'\n",
       "        );\n",
       "    }\n",
       "};\n",
       "\n",
       "mpl.figure = function (figure_id, websocket, ondownload, parent_element) {\n",
       "    this.id = figure_id;\n",
       "\n",
       "    this.ws = websocket;\n",
       "\n",
       "    this.supports_binary = this.ws.binaryType !== undefined;\n",
       "\n",
       "    if (!this.supports_binary) {\n",
       "        var warnings = document.getElementById('mpl-warnings');\n",
       "        if (warnings) {\n",
       "            warnings.style.display = 'block';\n",
       "            warnings.textContent =\n",
       "                'This browser does not support binary websocket messages. ' +\n",
       "                'Performance may be slow.';\n",
       "        }\n",
       "    }\n",
       "\n",
       "    this.imageObj = new Image();\n",
       "\n",
       "    this.context = undefined;\n",
       "    this.message = undefined;\n",
       "    this.canvas = undefined;\n",
       "    this.rubberband_canvas = undefined;\n",
       "    this.rubberband_context = undefined;\n",
       "    this.format_dropdown = undefined;\n",
       "\n",
       "    this.image_mode = 'full';\n",
       "\n",
       "    this.root = document.createElement('div');\n",
       "    this.root.setAttribute('style', 'display: inline-block');\n",
       "    this._root_extra_style(this.root);\n",
       "\n",
       "    parent_element.appendChild(this.root);\n",
       "\n",
       "    this._init_header(this);\n",
       "    this._init_canvas(this);\n",
       "    this._init_toolbar(this);\n",
       "\n",
       "    var fig = this;\n",
       "\n",
       "    this.waiting = false;\n",
       "\n",
       "    this.ws.onopen = function () {\n",
       "        fig.send_message('supports_binary', { value: fig.supports_binary });\n",
       "        fig.send_message('send_image_mode', {});\n",
       "        if (fig.ratio !== 1) {\n",
       "            fig.send_message('set_dpi_ratio', { dpi_ratio: fig.ratio });\n",
       "        }\n",
       "        fig.send_message('refresh', {});\n",
       "    };\n",
       "\n",
       "    this.imageObj.onload = function () {\n",
       "        if (fig.image_mode === 'full') {\n",
       "            // Full images could contain transparency (where diff images\n",
       "            // almost always do), so we need to clear the canvas so that\n",
       "            // there is no ghosting.\n",
       "            fig.context.clearRect(0, 0, fig.canvas.width, fig.canvas.height);\n",
       "        }\n",
       "        fig.context.drawImage(fig.imageObj, 0, 0);\n",
       "    };\n",
       "\n",
       "    this.imageObj.onunload = function () {\n",
       "        fig.ws.close();\n",
       "    };\n",
       "\n",
       "    this.ws.onmessage = this._make_on_message_function(this);\n",
       "\n",
       "    this.ondownload = ondownload;\n",
       "};\n",
       "\n",
       "mpl.figure.prototype._init_header = function () {\n",
       "    var titlebar = document.createElement('div');\n",
       "    titlebar.classList =\n",
       "        'ui-dialog-titlebar ui-widget-header ui-corner-all ui-helper-clearfix';\n",
       "    var titletext = document.createElement('div');\n",
       "    titletext.classList = 'ui-dialog-title';\n",
       "    titletext.setAttribute(\n",
       "        'style',\n",
       "        'width: 100%; text-align: center; padding: 3px;'\n",
       "    );\n",
       "    titlebar.appendChild(titletext);\n",
       "    this.root.appendChild(titlebar);\n",
       "    this.header = titletext;\n",
       "};\n",
       "\n",
       "mpl.figure.prototype._canvas_extra_style = function (_canvas_div) {};\n",
       "\n",
       "mpl.figure.prototype._root_extra_style = function (_canvas_div) {};\n",
       "\n",
       "mpl.figure.prototype._init_canvas = function () {\n",
       "    var fig = this;\n",
       "\n",
       "    var canvas_div = (this.canvas_div = document.createElement('div'));\n",
       "    canvas_div.setAttribute(\n",
       "        'style',\n",
       "        'border: 1px solid #ddd;' +\n",
       "            'box-sizing: content-box;' +\n",
       "            'clear: both;' +\n",
       "            'min-height: 1px;' +\n",
       "            'min-width: 1px;' +\n",
       "            'outline: 0;' +\n",
       "            'overflow: hidden;' +\n",
       "            'position: relative;' +\n",
       "            'resize: both;'\n",
       "    );\n",
       "\n",
       "    function on_keyboard_event_closure(name) {\n",
       "        return function (event) {\n",
       "            return fig.key_event(event, name);\n",
       "        };\n",
       "    }\n",
       "\n",
       "    canvas_div.addEventListener(\n",
       "        'keydown',\n",
       "        on_keyboard_event_closure('key_press')\n",
       "    );\n",
       "    canvas_div.addEventListener(\n",
       "        'keyup',\n",
       "        on_keyboard_event_closure('key_release')\n",
       "    );\n",
       "\n",
       "    this._canvas_extra_style(canvas_div);\n",
       "    this.root.appendChild(canvas_div);\n",
       "\n",
       "    var canvas = (this.canvas = document.createElement('canvas'));\n",
       "    canvas.classList.add('mpl-canvas');\n",
       "    canvas.setAttribute('style', 'box-sizing: content-box;');\n",
       "\n",
       "    this.context = canvas.getContext('2d');\n",
       "\n",
       "    var backingStore =\n",
       "        this.context.backingStorePixelRatio ||\n",
       "        this.context.webkitBackingStorePixelRatio ||\n",
       "        this.context.mozBackingStorePixelRatio ||\n",
       "        this.context.msBackingStorePixelRatio ||\n",
       "        this.context.oBackingStorePixelRatio ||\n",
       "        this.context.backingStorePixelRatio ||\n",
       "        1;\n",
       "\n",
       "    this.ratio = (window.devicePixelRatio || 1) / backingStore;\n",
       "\n",
       "    var rubberband_canvas = (this.rubberband_canvas = document.createElement(\n",
       "        'canvas'\n",
       "    ));\n",
       "    rubberband_canvas.setAttribute(\n",
       "        'style',\n",
       "        'box-sizing: content-box; position: absolute; left: 0; top: 0; z-index: 1;'\n",
       "    );\n",
       "\n",
       "    // Apply a ponyfill if ResizeObserver is not implemented by browser.\n",
       "    if (this.ResizeObserver === undefined) {\n",
       "        if (window.ResizeObserver !== undefined) {\n",
       "            this.ResizeObserver = window.ResizeObserver;\n",
       "        } else {\n",
       "            var obs = _JSXTOOLS_RESIZE_OBSERVER({});\n",
       "            this.ResizeObserver = obs.ResizeObserver;\n",
       "        }\n",
       "    }\n",
       "\n",
       "    this.resizeObserverInstance = new this.ResizeObserver(function (entries) {\n",
       "        var nentries = entries.length;\n",
       "        for (var i = 0; i < nentries; i++) {\n",
       "            var entry = entries[i];\n",
       "            var width, height;\n",
       "            if (entry.contentBoxSize) {\n",
       "                if (entry.contentBoxSize instanceof Array) {\n",
       "                    // Chrome 84 implements new version of spec.\n",
       "                    width = entry.contentBoxSize[0].inlineSize;\n",
       "                    height = entry.contentBoxSize[0].blockSize;\n",
       "                } else {\n",
       "                    // Firefox implements old version of spec.\n",
       "                    width = entry.contentBoxSize.inlineSize;\n",
       "                    height = entry.contentBoxSize.blockSize;\n",
       "                }\n",
       "            } else {\n",
       "                // Chrome <84 implements even older version of spec.\n",
       "                width = entry.contentRect.width;\n",
       "                height = entry.contentRect.height;\n",
       "            }\n",
       "\n",
       "            // Keep the size of the canvas and rubber band canvas in sync with\n",
       "            // the canvas container.\n",
       "            if (entry.devicePixelContentBoxSize) {\n",
       "                // Chrome 84 implements new version of spec.\n",
       "                canvas.setAttribute(\n",
       "                    'width',\n",
       "                    entry.devicePixelContentBoxSize[0].inlineSize\n",
       "                );\n",
       "                canvas.setAttribute(\n",
       "                    'height',\n",
       "                    entry.devicePixelContentBoxSize[0].blockSize\n",
       "                );\n",
       "            } else {\n",
       "                canvas.setAttribute('width', width * fig.ratio);\n",
       "                canvas.setAttribute('height', height * fig.ratio);\n",
       "            }\n",
       "            canvas.setAttribute(\n",
       "                'style',\n",
       "                'width: ' + width + 'px; height: ' + height + 'px;'\n",
       "            );\n",
       "\n",
       "            rubberband_canvas.setAttribute('width', width);\n",
       "            rubberband_canvas.setAttribute('height', height);\n",
       "\n",
       "            // And update the size in Python. We ignore the initial 0/0 size\n",
       "            // that occurs as the element is placed into the DOM, which should\n",
       "            // otherwise not happen due to the minimum size styling.\n",
       "            if (fig.ws.readyState == 1 && width != 0 && height != 0) {\n",
       "                fig.request_resize(width, height);\n",
       "            }\n",
       "        }\n",
       "    });\n",
       "    this.resizeObserverInstance.observe(canvas_div);\n",
       "\n",
       "    function on_mouse_event_closure(name) {\n",
       "        return function (event) {\n",
       "            return fig.mouse_event(event, name);\n",
       "        };\n",
       "    }\n",
       "\n",
       "    rubberband_canvas.addEventListener(\n",
       "        'mousedown',\n",
       "        on_mouse_event_closure('button_press')\n",
       "    );\n",
       "    rubberband_canvas.addEventListener(\n",
       "        'mouseup',\n",
       "        on_mouse_event_closure('button_release')\n",
       "    );\n",
       "    rubberband_canvas.addEventListener(\n",
       "        'dblclick',\n",
       "        on_mouse_event_closure('dblclick')\n",
       "    );\n",
       "    // Throttle sequential mouse events to 1 every 20ms.\n",
       "    rubberband_canvas.addEventListener(\n",
       "        'mousemove',\n",
       "        on_mouse_event_closure('motion_notify')\n",
       "    );\n",
       "\n",
       "    rubberband_canvas.addEventListener(\n",
       "        'mouseenter',\n",
       "        on_mouse_event_closure('figure_enter')\n",
       "    );\n",
       "    rubberband_canvas.addEventListener(\n",
       "        'mouseleave',\n",
       "        on_mouse_event_closure('figure_leave')\n",
       "    );\n",
       "\n",
       "    canvas_div.addEventListener('wheel', function (event) {\n",
       "        if (event.deltaY < 0) {\n",
       "            event.step = 1;\n",
       "        } else {\n",
       "            event.step = -1;\n",
       "        }\n",
       "        on_mouse_event_closure('scroll')(event);\n",
       "    });\n",
       "\n",
       "    canvas_div.appendChild(canvas);\n",
       "    canvas_div.appendChild(rubberband_canvas);\n",
       "\n",
       "    this.rubberband_context = rubberband_canvas.getContext('2d');\n",
       "    this.rubberband_context.strokeStyle = '#000000';\n",
       "\n",
       "    this._resize_canvas = function (width, height, forward) {\n",
       "        if (forward) {\n",
       "            canvas_div.style.width = width + 'px';\n",
       "            canvas_div.style.height = height + 'px';\n",
       "        }\n",
       "    };\n",
       "\n",
       "    // Disable right mouse context menu.\n",
       "    this.rubberband_canvas.addEventListener('contextmenu', function (_e) {\n",
       "        event.preventDefault();\n",
       "        return false;\n",
       "    });\n",
       "\n",
       "    function set_focus() {\n",
       "        canvas.focus();\n",
       "        canvas_div.focus();\n",
       "    }\n",
       "\n",
       "    window.setTimeout(set_focus, 100);\n",
       "};\n",
       "\n",
       "mpl.figure.prototype._init_toolbar = function () {\n",
       "    var fig = this;\n",
       "\n",
       "    var toolbar = document.createElement('div');\n",
       "    toolbar.classList = 'mpl-toolbar';\n",
       "    this.root.appendChild(toolbar);\n",
       "\n",
       "    function on_click_closure(name) {\n",
       "        return function (_event) {\n",
       "            return fig.toolbar_button_onclick(name);\n",
       "        };\n",
       "    }\n",
       "\n",
       "    function on_mouseover_closure(tooltip) {\n",
       "        return function (event) {\n",
       "            if (!event.currentTarget.disabled) {\n",
       "                return fig.toolbar_button_onmouseover(tooltip);\n",
       "            }\n",
       "        };\n",
       "    }\n",
       "\n",
       "    fig.buttons = {};\n",
       "    var buttonGroup = document.createElement('div');\n",
       "    buttonGroup.classList = 'mpl-button-group';\n",
       "    for (var toolbar_ind in mpl.toolbar_items) {\n",
       "        var name = mpl.toolbar_items[toolbar_ind][0];\n",
       "        var tooltip = mpl.toolbar_items[toolbar_ind][1];\n",
       "        var image = mpl.toolbar_items[toolbar_ind][2];\n",
       "        var method_name = mpl.toolbar_items[toolbar_ind][3];\n",
       "\n",
       "        if (!name) {\n",
       "            /* Instead of a spacer, we start a new button group. */\n",
       "            if (buttonGroup.hasChildNodes()) {\n",
       "                toolbar.appendChild(buttonGroup);\n",
       "            }\n",
       "            buttonGroup = document.createElement('div');\n",
       "            buttonGroup.classList = 'mpl-button-group';\n",
       "            continue;\n",
       "        }\n",
       "\n",
       "        var button = (fig.buttons[name] = document.createElement('button'));\n",
       "        button.classList = 'mpl-widget';\n",
       "        button.setAttribute('role', 'button');\n",
       "        button.setAttribute('aria-disabled', 'false');\n",
       "        button.addEventListener('click', on_click_closure(method_name));\n",
       "        button.addEventListener('mouseover', on_mouseover_closure(tooltip));\n",
       "\n",
       "        var icon_img = document.createElement('img');\n",
       "        icon_img.src = '_images/' + image + '.png';\n",
       "        icon_img.srcset = '_images/' + image + '_large.png 2x';\n",
       "        icon_img.alt = tooltip;\n",
       "        button.appendChild(icon_img);\n",
       "\n",
       "        buttonGroup.appendChild(button);\n",
       "    }\n",
       "\n",
       "    if (buttonGroup.hasChildNodes()) {\n",
       "        toolbar.appendChild(buttonGroup);\n",
       "    }\n",
       "\n",
       "    var fmt_picker = document.createElement('select');\n",
       "    fmt_picker.classList = 'mpl-widget';\n",
       "    toolbar.appendChild(fmt_picker);\n",
       "    this.format_dropdown = fmt_picker;\n",
       "\n",
       "    for (var ind in mpl.extensions) {\n",
       "        var fmt = mpl.extensions[ind];\n",
       "        var option = document.createElement('option');\n",
       "        option.selected = fmt === mpl.default_extension;\n",
       "        option.innerHTML = fmt;\n",
       "        fmt_picker.appendChild(option);\n",
       "    }\n",
       "\n",
       "    var status_bar = document.createElement('span');\n",
       "    status_bar.classList = 'mpl-message';\n",
       "    toolbar.appendChild(status_bar);\n",
       "    this.message = status_bar;\n",
       "};\n",
       "\n",
       "mpl.figure.prototype.request_resize = function (x_pixels, y_pixels) {\n",
       "    // Request matplotlib to resize the figure. Matplotlib will then trigger a resize in the client,\n",
       "    // which will in turn request a refresh of the image.\n",
       "    this.send_message('resize', { width: x_pixels, height: y_pixels });\n",
       "};\n",
       "\n",
       "mpl.figure.prototype.send_message = function (type, properties) {\n",
       "    properties['type'] = type;\n",
       "    properties['figure_id'] = this.id;\n",
       "    this.ws.send(JSON.stringify(properties));\n",
       "};\n",
       "\n",
       "mpl.figure.prototype.send_draw_message = function () {\n",
       "    if (!this.waiting) {\n",
       "        this.waiting = true;\n",
       "        this.ws.send(JSON.stringify({ type: 'draw', figure_id: this.id }));\n",
       "    }\n",
       "};\n",
       "\n",
       "mpl.figure.prototype.handle_save = function (fig, _msg) {\n",
       "    var format_dropdown = fig.format_dropdown;\n",
       "    var format = format_dropdown.options[format_dropdown.selectedIndex].value;\n",
       "    fig.ondownload(fig, format);\n",
       "};\n",
       "\n",
       "mpl.figure.prototype.handle_resize = function (fig, msg) {\n",
       "    var size = msg['size'];\n",
       "    if (size[0] !== fig.canvas.width || size[1] !== fig.canvas.height) {\n",
       "        fig._resize_canvas(size[0], size[1], msg['forward']);\n",
       "        fig.send_message('refresh', {});\n",
       "    }\n",
       "};\n",
       "\n",
       "mpl.figure.prototype.handle_rubberband = function (fig, msg) {\n",
       "    var x0 = msg['x0'] / fig.ratio;\n",
       "    var y0 = (fig.canvas.height - msg['y0']) / fig.ratio;\n",
       "    var x1 = msg['x1'] / fig.ratio;\n",
       "    var y1 = (fig.canvas.height - msg['y1']) / fig.ratio;\n",
       "    x0 = Math.floor(x0) + 0.5;\n",
       "    y0 = Math.floor(y0) + 0.5;\n",
       "    x1 = Math.floor(x1) + 0.5;\n",
       "    y1 = Math.floor(y1) + 0.5;\n",
       "    var min_x = Math.min(x0, x1);\n",
       "    var min_y = Math.min(y0, y1);\n",
       "    var width = Math.abs(x1 - x0);\n",
       "    var height = Math.abs(y1 - y0);\n",
       "\n",
       "    fig.rubberband_context.clearRect(\n",
       "        0,\n",
       "        0,\n",
       "        fig.canvas.width / fig.ratio,\n",
       "        fig.canvas.height / fig.ratio\n",
       "    );\n",
       "\n",
       "    fig.rubberband_context.strokeRect(min_x, min_y, width, height);\n",
       "};\n",
       "\n",
       "mpl.figure.prototype.handle_figure_label = function (fig, msg) {\n",
       "    // Updates the figure title.\n",
       "    fig.header.textContent = msg['label'];\n",
       "};\n",
       "\n",
       "mpl.figure.prototype.handle_cursor = function (fig, msg) {\n",
       "    var cursor = msg['cursor'];\n",
       "    switch (cursor) {\n",
       "        case 0:\n",
       "            cursor = 'pointer';\n",
       "            break;\n",
       "        case 1:\n",
       "            cursor = 'default';\n",
       "            break;\n",
       "        case 2:\n",
       "            cursor = 'crosshair';\n",
       "            break;\n",
       "        case 3:\n",
       "            cursor = 'move';\n",
       "            break;\n",
       "    }\n",
       "    fig.rubberband_canvas.style.cursor = cursor;\n",
       "};\n",
       "\n",
       "mpl.figure.prototype.handle_message = function (fig, msg) {\n",
       "    fig.message.textContent = msg['message'];\n",
       "};\n",
       "\n",
       "mpl.figure.prototype.handle_draw = function (fig, _msg) {\n",
       "    // Request the server to send over a new figure.\n",
       "    fig.send_draw_message();\n",
       "};\n",
       "\n",
       "mpl.figure.prototype.handle_image_mode = function (fig, msg) {\n",
       "    fig.image_mode = msg['mode'];\n",
       "};\n",
       "\n",
       "mpl.figure.prototype.handle_history_buttons = function (fig, msg) {\n",
       "    for (var key in msg) {\n",
       "        if (!(key in fig.buttons)) {\n",
       "            continue;\n",
       "        }\n",
       "        fig.buttons[key].disabled = !msg[key];\n",
       "        fig.buttons[key].setAttribute('aria-disabled', !msg[key]);\n",
       "    }\n",
       "};\n",
       "\n",
       "mpl.figure.prototype.handle_navigate_mode = function (fig, msg) {\n",
       "    if (msg['mode'] === 'PAN') {\n",
       "        fig.buttons['Pan'].classList.add('active');\n",
       "        fig.buttons['Zoom'].classList.remove('active');\n",
       "    } else if (msg['mode'] === 'ZOOM') {\n",
       "        fig.buttons['Pan'].classList.remove('active');\n",
       "        fig.buttons['Zoom'].classList.add('active');\n",
       "    } else {\n",
       "        fig.buttons['Pan'].classList.remove('active');\n",
       "        fig.buttons['Zoom'].classList.remove('active');\n",
       "    }\n",
       "};\n",
       "\n",
       "mpl.figure.prototype.updated_canvas_event = function () {\n",
       "    // Called whenever the canvas gets updated.\n",
       "    this.send_message('ack', {});\n",
       "};\n",
       "\n",
       "// A function to construct a web socket function for onmessage handling.\n",
       "// Called in the figure constructor.\n",
       "mpl.figure.prototype._make_on_message_function = function (fig) {\n",
       "    return function socket_on_message(evt) {\n",
       "        if (evt.data instanceof Blob) {\n",
       "            var img = evt.data;\n",
       "            if (img.type !== 'image/png') {\n",
       "                /* FIXME: We get \"Resource interpreted as Image but\n",
       "                 * transferred with MIME type text/plain:\" errors on\n",
       "                 * Chrome.  But how to set the MIME type?  It doesn't seem\n",
       "                 * to be part of the websocket stream */\n",
       "                img.type = 'image/png';\n",
       "            }\n",
       "\n",
       "            /* Free the memory for the previous frames */\n",
       "            if (fig.imageObj.src) {\n",
       "                (window.URL || window.webkitURL).revokeObjectURL(\n",
       "                    fig.imageObj.src\n",
       "                );\n",
       "            }\n",
       "\n",
       "            fig.imageObj.src = (window.URL || window.webkitURL).createObjectURL(\n",
       "                img\n",
       "            );\n",
       "            fig.updated_canvas_event();\n",
       "            fig.waiting = false;\n",
       "            return;\n",
       "        } else if (\n",
       "            typeof evt.data === 'string' &&\n",
       "            evt.data.slice(0, 21) === 'data:image/png;base64'\n",
       "        ) {\n",
       "            fig.imageObj.src = evt.data;\n",
       "            fig.updated_canvas_event();\n",
       "            fig.waiting = false;\n",
       "            return;\n",
       "        }\n",
       "\n",
       "        var msg = JSON.parse(evt.data);\n",
       "        var msg_type = msg['type'];\n",
       "\n",
       "        // Call the  \"handle_{type}\" callback, which takes\n",
       "        // the figure and JSON message as its only arguments.\n",
       "        try {\n",
       "            var callback = fig['handle_' + msg_type];\n",
       "        } catch (e) {\n",
       "            console.log(\n",
       "                \"No handler for the '\" + msg_type + \"' message type: \",\n",
       "                msg\n",
       "            );\n",
       "            return;\n",
       "        }\n",
       "\n",
       "        if (callback) {\n",
       "            try {\n",
       "                // console.log(\"Handling '\" + msg_type + \"' message: \", msg);\n",
       "                callback(fig, msg);\n",
       "            } catch (e) {\n",
       "                console.log(\n",
       "                    \"Exception inside the 'handler_\" + msg_type + \"' callback:\",\n",
       "                    e,\n",
       "                    e.stack,\n",
       "                    msg\n",
       "                );\n",
       "            }\n",
       "        }\n",
       "    };\n",
       "};\n",
       "\n",
       "// from http://stackoverflow.com/questions/1114465/getting-mouse-location-in-canvas\n",
       "mpl.findpos = function (e) {\n",
       "    //this section is from http://www.quirksmode.org/js/events_properties.html\n",
       "    var targ;\n",
       "    if (!e) {\n",
       "        e = window.event;\n",
       "    }\n",
       "    if (e.target) {\n",
       "        targ = e.target;\n",
       "    } else if (e.srcElement) {\n",
       "        targ = e.srcElement;\n",
       "    }\n",
       "    if (targ.nodeType === 3) {\n",
       "        // defeat Safari bug\n",
       "        targ = targ.parentNode;\n",
       "    }\n",
       "\n",
       "    // pageX,Y are the mouse positions relative to the document\n",
       "    var boundingRect = targ.getBoundingClientRect();\n",
       "    var x = e.pageX - (boundingRect.left + document.body.scrollLeft);\n",
       "    var y = e.pageY - (boundingRect.top + document.body.scrollTop);\n",
       "\n",
       "    return { x: x, y: y };\n",
       "};\n",
       "\n",
       "/*\n",
       " * return a copy of an object with only non-object keys\n",
       " * we need this to avoid circular references\n",
       " * http://stackoverflow.com/a/24161582/3208463\n",
       " */\n",
       "function simpleKeys(original) {\n",
       "    return Object.keys(original).reduce(function (obj, key) {\n",
       "        if (typeof original[key] !== 'object') {\n",
       "            obj[key] = original[key];\n",
       "        }\n",
       "        return obj;\n",
       "    }, {});\n",
       "}\n",
       "\n",
       "mpl.figure.prototype.mouse_event = function (event, name) {\n",
       "    var canvas_pos = mpl.findpos(event);\n",
       "\n",
       "    if (name === 'button_press') {\n",
       "        this.canvas.focus();\n",
       "        this.canvas_div.focus();\n",
       "    }\n",
       "\n",
       "    var x = canvas_pos.x * this.ratio;\n",
       "    var y = canvas_pos.y * this.ratio;\n",
       "\n",
       "    this.send_message(name, {\n",
       "        x: x,\n",
       "        y: y,\n",
       "        button: event.button,\n",
       "        step: event.step,\n",
       "        guiEvent: simpleKeys(event),\n",
       "    });\n",
       "\n",
       "    /* This prevents the web browser from automatically changing to\n",
       "     * the text insertion cursor when the button is pressed.  We want\n",
       "     * to control all of the cursor setting manually through the\n",
       "     * 'cursor' event from matplotlib */\n",
       "    event.preventDefault();\n",
       "    return false;\n",
       "};\n",
       "\n",
       "mpl.figure.prototype._key_event_extra = function (_event, _name) {\n",
       "    // Handle any extra behaviour associated with a key event\n",
       "};\n",
       "\n",
       "mpl.figure.prototype.key_event = function (event, name) {\n",
       "    // Prevent repeat events\n",
       "    if (name === 'key_press') {\n",
       "        if (event.key === this._key) {\n",
       "            return;\n",
       "        } else {\n",
       "            this._key = event.key;\n",
       "        }\n",
       "    }\n",
       "    if (name === 'key_release') {\n",
       "        this._key = null;\n",
       "    }\n",
       "\n",
       "    var value = '';\n",
       "    if (event.ctrlKey && event.key !== 'Control') {\n",
       "        value += 'ctrl+';\n",
       "    }\n",
       "    else if (event.altKey && event.key !== 'Alt') {\n",
       "        value += 'alt+';\n",
       "    }\n",
       "    else if (event.shiftKey && event.key !== 'Shift') {\n",
       "        value += 'shift+';\n",
       "    }\n",
       "\n",
       "    value += 'k' + event.key;\n",
       "\n",
       "    this._key_event_extra(event, name);\n",
       "\n",
       "    this.send_message(name, { key: value, guiEvent: simpleKeys(event) });\n",
       "    return false;\n",
       "};\n",
       "\n",
       "mpl.figure.prototype.toolbar_button_onclick = function (name) {\n",
       "    if (name === 'download') {\n",
       "        this.handle_save(this, null);\n",
       "    } else {\n",
       "        this.send_message('toolbar_button', { name: name });\n",
       "    }\n",
       "};\n",
       "\n",
       "mpl.figure.prototype.toolbar_button_onmouseover = function (tooltip) {\n",
       "    this.message.textContent = tooltip;\n",
       "};\n",
       "\n",
       "///////////////// REMAINING CONTENT GENERATED BY embed_js.py /////////////////\n",
       "// prettier-ignore\n",
       "var _JSXTOOLS_RESIZE_OBSERVER=function(A){var t,i=new WeakMap,n=new WeakMap,a=new WeakMap,r=new WeakMap,o=new Set;function s(e){if(!(this instanceof s))throw new TypeError(\"Constructor requires 'new' operator\");i.set(this,e)}function h(){throw new TypeError(\"Function is not a constructor\")}function c(e,t,i,n){e=0 in arguments?Number(arguments[0]):0,t=1 in arguments?Number(arguments[1]):0,i=2 in arguments?Number(arguments[2]):0,n=3 in arguments?Number(arguments[3]):0,this.right=(this.x=this.left=e)+(this.width=i),this.bottom=(this.y=this.top=t)+(this.height=n),Object.freeze(this)}function d(){t=requestAnimationFrame(d);var s=new WeakMap,p=new Set;o.forEach((function(t){r.get(t).forEach((function(i){var r=t instanceof window.SVGElement,o=a.get(t),d=r?0:parseFloat(o.paddingTop),f=r?0:parseFloat(o.paddingRight),l=r?0:parseFloat(o.paddingBottom),u=r?0:parseFloat(o.paddingLeft),g=r?0:parseFloat(o.borderTopWidth),m=r?0:parseFloat(o.borderRightWidth),w=r?0:parseFloat(o.borderBottomWidth),b=u+f,F=d+l,v=(r?0:parseFloat(o.borderLeftWidth))+m,W=g+w,y=r?0:t.offsetHeight-W-t.clientHeight,E=r?0:t.offsetWidth-v-t.clientWidth,R=b+v,z=F+W,M=r?t.width:parseFloat(o.width)-R-E,O=r?t.height:parseFloat(o.height)-z-y;if(n.has(t)){var k=n.get(t);if(k[0]===M&&k[1]===O)return}n.set(t,[M,O]);var S=Object.create(h.prototype);S.target=t,S.contentRect=new c(u,d,M,O),s.has(i)||(s.set(i,[]),p.add(i)),s.get(i).push(S)}))})),p.forEach((function(e){i.get(e).call(e,s.get(e),e)}))}return s.prototype.observe=function(i){if(i instanceof window.Element){r.has(i)||(r.set(i,new Set),o.add(i),a.set(i,window.getComputedStyle(i)));var n=r.get(i);n.has(this)||n.add(this),cancelAnimationFrame(t),t=requestAnimationFrame(d)}},s.prototype.unobserve=function(i){if(i instanceof window.Element&&r.has(i)){var n=r.get(i);n.has(this)&&(n.delete(this),n.size||(r.delete(i),o.delete(i))),n.size||r.delete(i),o.size||cancelAnimationFrame(t)}},A.DOMRectReadOnly=c,A.ResizeObserver=s,A.ResizeObserverEntry=h,A}; // eslint-disable-line\n",
       "mpl.toolbar_items = [[\"Home\", \"Reset original view\", \"fa fa-home icon-home\", \"home\"], [\"Back\", \"Back to previous view\", \"fa fa-arrow-left icon-arrow-left\", \"back\"], [\"Forward\", \"Forward to next view\", \"fa fa-arrow-right icon-arrow-right\", \"forward\"], [\"\", \"\", \"\", \"\"], [\"Pan\", \"Left button pans, Right button zooms\\nx/y fixes axis, CTRL fixes aspect\", \"fa fa-arrows icon-move\", \"pan\"], [\"Zoom\", \"Zoom to rectangle\\nx/y fixes axis, CTRL fixes aspect\", \"fa fa-square-o icon-check-empty\", \"zoom\"], [\"\", \"\", \"\", \"\"], [\"Download\", \"Download plot\", \"fa fa-floppy-o icon-save\", \"download\"]];\n",
       "\n",
       "mpl.extensions = [\"eps\", \"jpeg\", \"pgf\", \"pdf\", \"png\", \"ps\", \"raw\", \"svg\", \"tif\"];\n",
       "\n",
       "mpl.default_extension = \"png\";/* global mpl */\n",
       "\n",
       "var comm_websocket_adapter = function (comm) {\n",
       "    // Create a \"websocket\"-like object which calls the given IPython comm\n",
       "    // object with the appropriate methods. Currently this is a non binary\n",
       "    // socket, so there is still some room for performance tuning.\n",
       "    var ws = {};\n",
       "\n",
       "    ws.binaryType = comm.kernel.ws.binaryType;\n",
       "    ws.readyState = comm.kernel.ws.readyState;\n",
       "    function updateReadyState(_event) {\n",
       "        if (comm.kernel.ws) {\n",
       "            ws.readyState = comm.kernel.ws.readyState;\n",
       "        } else {\n",
       "            ws.readyState = 3; // Closed state.\n",
       "        }\n",
       "    }\n",
       "    comm.kernel.ws.addEventListener('open', updateReadyState);\n",
       "    comm.kernel.ws.addEventListener('close', updateReadyState);\n",
       "    comm.kernel.ws.addEventListener('error', updateReadyState);\n",
       "\n",
       "    ws.close = function () {\n",
       "        comm.close();\n",
       "    };\n",
       "    ws.send = function (m) {\n",
       "        //console.log('sending', m);\n",
       "        comm.send(m);\n",
       "    };\n",
       "    // Register the callback with on_msg.\n",
       "    comm.on_msg(function (msg) {\n",
       "        //console.log('receiving', msg['content']['data'], msg);\n",
       "        var data = msg['content']['data'];\n",
       "        if (data['blob'] !== undefined) {\n",
       "            data = {\n",
       "                data: new Blob(msg['buffers'], { type: data['blob'] }),\n",
       "            };\n",
       "        }\n",
       "        // Pass the mpl event to the overridden (by mpl) onmessage function.\n",
       "        ws.onmessage(data);\n",
       "    });\n",
       "    return ws;\n",
       "};\n",
       "\n",
       "mpl.mpl_figure_comm = function (comm, msg) {\n",
       "    // This is the function which gets called when the mpl process\n",
       "    // starts-up an IPython Comm through the \"matplotlib\" channel.\n",
       "\n",
       "    var id = msg.content.data.id;\n",
       "    // Get hold of the div created by the display call when the Comm\n",
       "    // socket was opened in Python.\n",
       "    var element = document.getElementById(id);\n",
       "    var ws_proxy = comm_websocket_adapter(comm);\n",
       "\n",
       "    function ondownload(figure, _format) {\n",
       "        window.open(figure.canvas.toDataURL());\n",
       "    }\n",
       "\n",
       "    var fig = new mpl.figure(id, ws_proxy, ondownload, element);\n",
       "\n",
       "    // Call onopen now - mpl needs it, as it is assuming we've passed it a real\n",
       "    // web socket which is closed, not our websocket->open comm proxy.\n",
       "    ws_proxy.onopen();\n",
       "\n",
       "    fig.parent_element = element;\n",
       "    fig.cell_info = mpl.find_output_cell(\"<div id='\" + id + \"'></div>\");\n",
       "    if (!fig.cell_info) {\n",
       "        console.error('Failed to find cell for figure', id, fig);\n",
       "        return;\n",
       "    }\n",
       "    fig.cell_info[0].output_area.element.on(\n",
       "        'cleared',\n",
       "        { fig: fig },\n",
       "        fig._remove_fig_handler\n",
       "    );\n",
       "};\n",
       "\n",
       "mpl.figure.prototype.handle_close = function (fig, msg) {\n",
       "    var width = fig.canvas.width / fig.ratio;\n",
       "    fig.cell_info[0].output_area.element.off(\n",
       "        'cleared',\n",
       "        fig._remove_fig_handler\n",
       "    );\n",
       "    fig.resizeObserverInstance.unobserve(fig.canvas_div);\n",
       "\n",
       "    // Update the output cell to use the data from the current canvas.\n",
       "    fig.push_to_output();\n",
       "    var dataURL = fig.canvas.toDataURL();\n",
       "    // Re-enable the keyboard manager in IPython - without this line, in FF,\n",
       "    // the notebook keyboard shortcuts fail.\n",
       "    IPython.keyboard_manager.enable();\n",
       "    fig.parent_element.innerHTML =\n",
       "        '<img src=\"' + dataURL + '\" width=\"' + width + '\">';\n",
       "    fig.close_ws(fig, msg);\n",
       "};\n",
       "\n",
       "mpl.figure.prototype.close_ws = function (fig, msg) {\n",
       "    fig.send_message('closing', msg);\n",
       "    // fig.ws.close()\n",
       "};\n",
       "\n",
       "mpl.figure.prototype.push_to_output = function (_remove_interactive) {\n",
       "    // Turn the data on the canvas into data in the output cell.\n",
       "    var width = this.canvas.width / this.ratio;\n",
       "    var dataURL = this.canvas.toDataURL();\n",
       "    this.cell_info[1]['text/html'] =\n",
       "        '<img src=\"' + dataURL + '\" width=\"' + width + '\">';\n",
       "};\n",
       "\n",
       "mpl.figure.prototype.updated_canvas_event = function () {\n",
       "    // Tell IPython that the notebook contents must change.\n",
       "    IPython.notebook.set_dirty(true);\n",
       "    this.send_message('ack', {});\n",
       "    var fig = this;\n",
       "    // Wait a second, then push the new image to the DOM so\n",
       "    // that it is saved nicely (might be nice to debounce this).\n",
       "    setTimeout(function () {\n",
       "        fig.push_to_output();\n",
       "    }, 1000);\n",
       "};\n",
       "\n",
       "mpl.figure.prototype._init_toolbar = function () {\n",
       "    var fig = this;\n",
       "\n",
       "    var toolbar = document.createElement('div');\n",
       "    toolbar.classList = 'btn-toolbar';\n",
       "    this.root.appendChild(toolbar);\n",
       "\n",
       "    function on_click_closure(name) {\n",
       "        return function (_event) {\n",
       "            return fig.toolbar_button_onclick(name);\n",
       "        };\n",
       "    }\n",
       "\n",
       "    function on_mouseover_closure(tooltip) {\n",
       "        return function (event) {\n",
       "            if (!event.currentTarget.disabled) {\n",
       "                return fig.toolbar_button_onmouseover(tooltip);\n",
       "            }\n",
       "        };\n",
       "    }\n",
       "\n",
       "    fig.buttons = {};\n",
       "    var buttonGroup = document.createElement('div');\n",
       "    buttonGroup.classList = 'btn-group';\n",
       "    var button;\n",
       "    for (var toolbar_ind in mpl.toolbar_items) {\n",
       "        var name = mpl.toolbar_items[toolbar_ind][0];\n",
       "        var tooltip = mpl.toolbar_items[toolbar_ind][1];\n",
       "        var image = mpl.toolbar_items[toolbar_ind][2];\n",
       "        var method_name = mpl.toolbar_items[toolbar_ind][3];\n",
       "\n",
       "        if (!name) {\n",
       "            /* Instead of a spacer, we start a new button group. */\n",
       "            if (buttonGroup.hasChildNodes()) {\n",
       "                toolbar.appendChild(buttonGroup);\n",
       "            }\n",
       "            buttonGroup = document.createElement('div');\n",
       "            buttonGroup.classList = 'btn-group';\n",
       "            continue;\n",
       "        }\n",
       "\n",
       "        button = fig.buttons[name] = document.createElement('button');\n",
       "        button.classList = 'btn btn-default';\n",
       "        button.href = '#';\n",
       "        button.title = name;\n",
       "        button.innerHTML = '<i class=\"fa ' + image + ' fa-lg\"></i>';\n",
       "        button.addEventListener('click', on_click_closure(method_name));\n",
       "        button.addEventListener('mouseover', on_mouseover_closure(tooltip));\n",
       "        buttonGroup.appendChild(button);\n",
       "    }\n",
       "\n",
       "    if (buttonGroup.hasChildNodes()) {\n",
       "        toolbar.appendChild(buttonGroup);\n",
       "    }\n",
       "\n",
       "    // Add the status bar.\n",
       "    var status_bar = document.createElement('span');\n",
       "    status_bar.classList = 'mpl-message pull-right';\n",
       "    toolbar.appendChild(status_bar);\n",
       "    this.message = status_bar;\n",
       "\n",
       "    // Add the close button to the window.\n",
       "    var buttongrp = document.createElement('div');\n",
       "    buttongrp.classList = 'btn-group inline pull-right';\n",
       "    button = document.createElement('button');\n",
       "    button.classList = 'btn btn-mini btn-primary';\n",
       "    button.href = '#';\n",
       "    button.title = 'Stop Interaction';\n",
       "    button.innerHTML = '<i class=\"fa fa-power-off icon-remove icon-large\"></i>';\n",
       "    button.addEventListener('click', function (_evt) {\n",
       "        fig.handle_close(fig, {});\n",
       "    });\n",
       "    button.addEventListener(\n",
       "        'mouseover',\n",
       "        on_mouseover_closure('Stop Interaction')\n",
       "    );\n",
       "    buttongrp.appendChild(button);\n",
       "    var titlebar = this.root.querySelector('.ui-dialog-titlebar');\n",
       "    titlebar.insertBefore(buttongrp, titlebar.firstChild);\n",
       "};\n",
       "\n",
       "mpl.figure.prototype._remove_fig_handler = function (event) {\n",
       "    var fig = event.data.fig;\n",
       "    if (event.target !== this) {\n",
       "        // Ignore bubbled events from children.\n",
       "        return;\n",
       "    }\n",
       "    fig.close_ws(fig, {});\n",
       "};\n",
       "\n",
       "mpl.figure.prototype._root_extra_style = function (el) {\n",
       "    el.style.boxSizing = 'content-box'; // override notebook setting of border-box.\n",
       "};\n",
       "\n",
       "mpl.figure.prototype._canvas_extra_style = function (el) {\n",
       "    // this is important to make the div 'focusable\n",
       "    el.setAttribute('tabindex', 0);\n",
       "    // reach out to IPython and tell the keyboard manager to turn it's self\n",
       "    // off when our div gets focus\n",
       "\n",
       "    // location in version 3\n",
       "    if (IPython.notebook.keyboard_manager) {\n",
       "        IPython.notebook.keyboard_manager.register_events(el);\n",
       "    } else {\n",
       "        // location in version 2\n",
       "        IPython.keyboard_manager.register_events(el);\n",
       "    }\n",
       "};\n",
       "\n",
       "mpl.figure.prototype._key_event_extra = function (event, _name) {\n",
       "    var manager = IPython.notebook.keyboard_manager;\n",
       "    if (!manager) {\n",
       "        manager = IPython.keyboard_manager;\n",
       "    }\n",
       "\n",
       "    // Check for shift+enter\n",
       "    if (event.shiftKey && event.which === 13) {\n",
       "        this.canvas_div.blur();\n",
       "        // select the cell after this one\n",
       "        var index = IPython.notebook.find_cell_index(this.cell_info[0]);\n",
       "        IPython.notebook.select(index + 1);\n",
       "    }\n",
       "};\n",
       "\n",
       "mpl.figure.prototype.handle_save = function (fig, _msg) {\n",
       "    fig.ondownload(fig, null);\n",
       "};\n",
       "\n",
       "mpl.find_output_cell = function (html_output) {\n",
       "    // Return the cell and output element which can be found *uniquely* in the notebook.\n",
       "    // Note - this is a bit hacky, but it is done because the \"notebook_saving.Notebook\"\n",
       "    // IPython event is triggered only after the cells have been serialised, which for\n",
       "    // our purposes (turning an active figure into a static one), is too late.\n",
       "    var cells = IPython.notebook.get_cells();\n",
       "    var ncells = cells.length;\n",
       "    for (var i = 0; i < ncells; i++) {\n",
       "        var cell = cells[i];\n",
       "        if (cell.cell_type === 'code') {\n",
       "            for (var j = 0; j < cell.output_area.outputs.length; j++) {\n",
       "                var data = cell.output_area.outputs[j];\n",
       "                if (data.data) {\n",
       "                    // IPython >= 3 moved mimebundle to data attribute of output\n",
       "                    data = data.data;\n",
       "                }\n",
       "                if (data['text/html'] === html_output) {\n",
       "                    return [cell, data, j];\n",
       "                }\n",
       "            }\n",
       "        }\n",
       "    }\n",
       "};\n",
       "\n",
       "// Register the function which deals with the matplotlib target/channel.\n",
       "// The kernel may be null if the page has been refreshed.\n",
       "if (IPython.notebook.kernel !== null) {\n",
       "    IPython.notebook.kernel.comm_manager.register_target(\n",
       "        'matplotlib',\n",
       "        mpl.mpl_figure_comm\n",
       "    );\n",
       "}\n"
      ],
      "text/plain": [
       "<IPython.core.display.Javascript object>"
      ]
     },
     "metadata": {},
     "output_type": "display_data"
    },
    {
     "data": {
      "text/html": [
       "<img src=\"data:image/png;base64,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\" width=\"640\">"
      ],
      "text/plain": [
       "<IPython.core.display.HTML object>"
      ]
     },
     "metadata": {},
     "output_type": "display_data"
    }
   ],
   "source": [
    "# in 3D vom folosim x ca timp, y ca frecventa si z ca amplitudine\n",
    "\n",
    "omega = 2*np.pi/T # o cosntanta... pentru cunoscatori este chiar pulsatia fundamentala :D\n",
    "\n",
    "fig = plt.figure()\n",
    "ax = fig.add_subplot(111, projection='3d')\n",
    "\n",
    "\n",
    "st = 0.5 # un bias?! vedem laboratorul urmator ce este cu el\n",
    "for ni in range(1, Na-80):\n",
    "    sn = an[ni]*np.sin(omega*ni*t) # sinusurile calculate in bucla in loc de copy-paste\n",
    "    y = ni*np.ones(W) # pentru graficul 3D ne mai generam o dimenisune ca sa poata fi organizat adecvat\n",
    "    ax.plot(t,y,sn, 'k') # desenam sinusul cu culoarea negru \n",
    "                         # in planul y corespunzator sinusului calculat cu multiplul ni al frecventei\n",
    "                         # a1*sin1 in planul 1, a2*sin2 in planul 2 si tot asa\n",
    "    st += sn # sinusul il adunam intr-un semnal suma al tuturor acestor sinusuri generate\n",
    "        \n",
    "y = -1*np.ones(W) # semnalul suma o sa dorim sa-l punem la coordonata y = -1 (intr-un plan mai in fata)\n",
    "\n",
    "ax.plot(t,y,st, 'r') # reprezentam semnalul suma cu rosu\n",
    "\n",
    "plt.show()"
   ]
  },
  {
   "cell_type": "markdown",
   "metadata": {
    "collapsed": true
   },
   "source": [
    "\n",
    "<br>\n",
    "<ul>\n",
    "    <li>Rotiți graficul (ținând apăsat pe left click si mutând mouse-ul) și încercați să observați semnalul rezultat (suma de sinusuri) precum și fenomenul în sine.</li>\n",
    "    <li>Creșteți numărul de armonici (sinusuri) la valoarea 20, 30, 100.</li>\n",
    "    </ul>\n"
   ]
  },
  {
   "cell_type": "code",
   "execution_count": null,
   "metadata": {},
   "outputs": [],
   "source": []
  }
 ],
 "metadata": {
  "kernelspec": {
   "display_name": "Python 3 (ipykernel)",
   "language": "python",
   "name": "python3"
  },
  "language_info": {
   "codemirror_mode": {
    "name": "ipython",
    "version": 3
   },
   "file_extension": ".py",
   "mimetype": "text/x-python",
   "name": "python",
   "nbconvert_exporter": "python",
   "pygments_lexer": "ipython3",
   "version": "3.9.7"
  }
 },
 "nbformat": 4,
 "nbformat_minor": 2
}
